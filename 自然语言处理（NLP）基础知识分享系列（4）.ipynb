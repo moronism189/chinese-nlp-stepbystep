{
 "cells": [
  {
   "cell_type": "markdown",
   "id": "0ec78705",
   "metadata": {},
   "source": [
    "## `TF-IDF向量距离度量和数据分析` "
   ]
  },
  {
   "cell_type": "markdown",
   "id": "58e59550",
   "metadata": {},
   "source": [
    "我们完成了新闻标题文档的TF-IDF向量空间模型，现在我们来看看它对于我们的任务目标（辨别新闻标题A和B的关系）有什么帮助。 \n",
    "\n",
    "### 用TF-IDF模型度量新闻标题A和B的距离 \n",
    "我们把之前用 **pickle** 持久化保存的分词结果加载进来，继续下面的内容。 "
   ]
  },
  {
   "cell_type": "code",
   "execution_count": 1,
   "id": "6eca9a36",
   "metadata": {},
   "outputs": [],
   "source": [
    "import pandas as pd \n",
    "import pickle \n",
    " \n",
    "pkl_file_rb = open(r'./save_file', 'rb') \n",
    "train =pickle.load(pkl_file_rb) "
   ]
  },
  {
   "cell_type": "markdown",
   "id": "66857c25",
   "metadata": {},
   "source": [
    "回顾一下上次所讲，使用 **sklearn** 包中的 **TfidfVectorizer** 函数训练TF-IDF模型。 "
   ]
  },
  {
   "cell_type": "code",
   "execution_count": 2,
   "id": "13c8d686",
   "metadata": {},
   "outputs": [],
   "source": [
    "from sklearn.feature_extraction.text import TfidfVectorizer \n",
    " \n",
    "corpus = pd.concat([train . title1_tokenized, train . title2_tokenized]) \n",
    "corpus = [c for c in corpus] \n",
    " \n",
    "tfidf_model = TfidfVectorizer().fit(corpus) "
   ]
  },
  {
   "cell_type": "code",
   "execution_count": 3,
   "id": "b7fd5d8d",
   "metadata": {},
   "outputs": [
    {
     "data": {
      "text/plain": [
       "((320552, 67243), (320552, 67243))"
      ]
     },
     "execution_count": 3,
     "metadata": {},
     "output_type": "execute_result"
    }
   ],
   "source": [
    "matrix1= tfidf_model.transform(train['title1_tokenized']) \n",
    "matrix2= tfidf_model.transform(train['title2_tokenized']) \n",
    "matrix1.shape, matrix2.shape "
   ]
  },
  {
   "cell_type": "markdown",
   "id": "ae5c8119",
   "metadata": {},
   "source": [
    "现在我们通过计算向量距离的方法，度量新闻标题A和B的距离。向量之间距离算法和相似度计算方法有非常多，这里我们用常见的余弦相似度计算法（cosine similarity measure）： \n",
    " \n",
    "$ cos(\\theta) = \\frac{A \\cdot B}{||A|| ||B||} $"
   ]
  },
  {
   "cell_type": "markdown",
   "id": "9a9e33a5",
   "metadata": {},
   "source": [
    "/*from sklearn.metrics.pairwise import cosine_similarity <br>\n",
    "cosine_dis2 = cosine_similarity(matrix1,matrix2) */"
   ]
  },
  {
   "cell_type": "code",
   "execution_count": 4,
   "id": "ccd3b39a",
   "metadata": {},
   "outputs": [],
   "source": [
    "import numpy as np \n",
    " \n",
    "def cos_sim(a, b): \n",
    "    a_norm = np.linalg.norm(a) \n",
    "    b_norm = np.linalg.norm(b) \n",
    "    cos = np.dot(a,b)/(a_norm * b_norm) \n",
    "    return cos "
   ]
  },
  {
   "cell_type": "code",
   "execution_count": 5,
   "id": "d73c33d2",
   "metadata": {},
   "outputs": [
    {
     "name": "stderr",
     "output_type": "stream",
     "text": [
      "c:\\users\\hp\\appdata\\local\\programs\\python\\python37\\lib\\site-packages\\ipykernel_launcher.py:6: RuntimeWarning: invalid value encountered in double_scalars\n",
      "  \n"
     ]
    }
   ],
   "source": [
    "cosin_measure = [] \n",
    "for i in range(matrix1.shape[0]): \n",
    "    cosin_measure.append(cos_sim(np.squeeze(matrix1[i].toarray()),np.squeeze(matrix2[i].toarray()))) "
   ]
  },
  {
   "cell_type": "code",
   "execution_count": 6,
   "id": "a1021f41",
   "metadata": {},
   "outputs": [
    {
     "name": "stdout",
     "output_type": "stream",
     "text": [
      "Train columns with null values:\n",
      " title1_zh            0\n",
      "title2_zh            7\n",
      "label                0\n",
      "title1_tokenized     0\n",
      "title2_tokenized     0\n",
      "cosin_measure       18\n",
      "dtype: int64\n"
     ]
    }
   ],
   "source": [
    "train['cosin_measure'] = cosin_measure \n",
    "print('Train columns with null values:\\n', train.isnull().sum()) #检查各列的空值记录数 \n",
    "\n",
    "train.loc[:,'cosin_measure'] = train.loc[:,'cosin_measure'].fillna(0) #余弦相似度空值填充 "
   ]
  },
  {
   "cell_type": "markdown",
   "id": "b38e551d",
   "metadata": {},
   "source": [
    "我们先用4分位箱形图开看一下，'unrelated','agreed','disagreed'三类关系的新闻标题对之间的余弦相似度取值分布。 "
   ]
  },
  {
   "cell_type": "code",
   "execution_count": 7,
   "id": "429a8f29",
   "metadata": {},
   "outputs": [],
   "source": [
    "# 准备数据 \n",
    "Levels = ['unrelated','agreed','disagreed'] \n",
    " \n",
    "data = [] \n",
    "for level in Levels: \n",
    "    data.append(train.loc[train.label==level,'cosin_measure']) "
   ]
  },
  {
   "cell_type": "code",
   "execution_count": 8,
   "id": "3bfc0f38",
   "metadata": {},
   "outputs": [
    {
     "data": {
      "image/png": "[encoded data removed]",
      "text/plain": [
       "<Figure size 432x288 with 1 Axes>"
      ]
     },
     "metadata": {
      "needs_background": "light"
     },
     "output_type": "display_data"
    }
   ],
   "source": [
    "import matplotlib.pyplot as plt \n",
    "# 正确显示中文和负号 \n",
    "plt.rcParams[\"font.sans-serif\"] = [\"SimHei\"] \n",
    "plt.rcParams[\"axes.unicode_minus\"] = False \n",
    " \n",
    "#三个箱型图的颜色 RGB （均为0~1的数据） \n",
    "colors = [(202/255.,96/255.,17/255.), (255/255.,217/255.,102/255.), (137/255.,128/255.,68/255.)] \n",
    "# 画图，plt.boxplot()可以画四分位箱图 \n",
    "bplot = plt.boxplot(data, labels=Levels,showmeans=True,patch_artist=True,\\\n",
    "            boxprops = {'color':'black','facecolor':'#9999ff'},flierprops = {'marker':'o','markerfacecolor':'red','color':'black'},\\\n",
    "            meanprops = {'marker':'D','markerfacecolor':'indianred'},medianprops = {'linestyle':'--','color':'orange'}) \n",
    " \n",
    "#将三个箱分别上色 \n",
    "for patch, color in zip(bplot['boxes'], colors): \n",
    "    patch.set_facecolor(color) \n",
    "        \n",
    "# 添加描述信息 \n",
    "plt.xlabel('新闻标题关系') \n",
    "plt.ylabel('相似度') \n",
    "plt.title('新闻标题A和B的余弦相似度') \n",
    "  \n",
    "# 添加图例 \n",
    "plt.legend(bplot['boxes'],Levels,loc='upper left')  # 要在绘制图像那一步添加标签 \n",
    "  \n",
    "# 显示图形 \n",
    "plt.savefig(fname=\"imgs/pic-4pos.png\", dpi=300)  \n",
    "plt.show() "
   ]
  },
  {
   "cell_type": "markdown",
   "id": "98e0a196",
   "metadata": {},
   "source": [
    "我们明显看出'unrelated'关系的新闻标题A和B之间的余弦相似度分布在较低的取值区间。 \n",
    "更精确的，再来看看以下百分位数分布点位[1,5,25,50,75,95,99]的余弦相似度取值。 "
   ]
  },
  {
   "cell_type": "code",
   "execution_count": 12,
   "id": "4a480a4f",
   "metadata": {},
   "outputs": [
    {
     "name": "stdout",
     "output_type": "stream",
     "text": [
      "unrelated [0.         0.         0.         0.12928143 0.27184187 0.49754464\n",
      " 0.68701292]\n",
      "agreed [0.06130946 0.14686544 0.30364198 0.4526878  0.64951001 0.93696967\n",
      " 1.        ]\n",
      "disagreed [0.         0.0951492  0.26737468 0.40195025 0.56909786 0.88305113\n",
      " 0.97880696]\n"
     ]
    }
   ],
   "source": [
    "for i in range(len(data)): \n",
    "    print(Levels[i],np.percentile(data[i], [1,5,25,50,75,95,99], axis=0)) "
   ]
  },
  {
   "cell_type": "markdown",
   "id": "da9407ba",
   "metadata": {},
   "source": [
    "### 一个升级版的猜测算法 \n",
    " \n",
    "我们看到，大约95%的'unrelated'的余弦相似度小于0.5…… \n",
    "而余弦相似度数值在0.5以上时，'agreed'和'disagreed'区分度似乎并不明显。我们还可以沿用之前的策略，由于'agreed'的比例远大于'disagreed'，全部瞎猜成'agreed'命中的概率会比较高。 \n",
    "\n",
    "这样，我们有了一个升级版的猜法：**新闻标题A和B余弦相似度小于0.5的判为'unrelated'，余弦相似度大于0.5的判为'agreed'。**  \n",
    "\n",
    "我们来计算一下准确率。 "
   ]
  },
  {
   "cell_type": "code",
   "execution_count": 14,
   "id": "c9a43356",
   "metadata": {},
   "outputs": [
    {
     "name": "stdout",
     "output_type": "stream",
     "text": [
      "accuracy: 77.4%\n"
     ]
    }
   ],
   "source": [
    "train_currect = train[(train['label'] == 'unrelated') & (train['cosin_measure'] < 0.50) \\\n",
    "                      | (train['label'] == 'agreed') & (train['cosin_measure'] >= 0.50)] \n",
    "accuracy = len(train_currect) / len(train) \n",
    "print('accuracy: {:.1%}'.format(accuracy)) "
   ]
  },
  {
   "cell_type": "markdown",
   "id": "95fca2a0",
   "metadata": {},
   "source": [
    "<font color=\"#dd0000\">77.4%</font>！这是它在训练集上的准确率，与基线模型的<font color=\"#dd0000\">68%</font>相比，已经有了近10个点的提升！ \n",
    "\n",
    "---\n",
    "好了，今天就到这儿。 \n"
   ]
  }
 ],
 "metadata": {
  "kernelspec": {
   "display_name": "Python 3 (ipykernel)",
   "language": "python",
   "name": "python3"
  },
  "language_info": {
   "codemirror_mode": {
    "name": "ipython",
    "version": 3
   },
   "file_extension": ".py",
   "mimetype": "text/x-python",
   "name": "python",
   "nbconvert_exporter": "python",
   "pygments_lexer": "ipython3",
   "version": "3.7.9"
  }
 },
 "nbformat": 4,
 "nbformat_minor": 5
}
