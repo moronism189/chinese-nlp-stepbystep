{
 "cells": [
  {
   "cell_type": "markdown",
   "id": "69ef737d",
   "metadata": {},
   "source": [
    "## `用直觉找出基线`"
   ]
  },
  {
   "cell_type": "markdown",
   "id": "34761d62",
   "metadata": {},
   "source": [
    "这是今天的任务，后面会对基线这个词有所解释。 \n",
    "现在任务目标明确了，就是要将有32 万笔数据的训练数据集（Training Set）交给NLP 模型，让它「阅读」每一列里头的假新闻A 与新闻B 的标题并了解它们之间的关系（不相关、B 同意A、B 不同意A）。 \n",
    "理想上，在看过一大堆案例以后，我们的模型就能够「学会」一些法则，让它在被给定一组从来没看过的假新闻标题A 以及新闻标题B 的情况下，也能正确判断新闻A 与新闻B 的关系。 \n",
    "而所谓的「模型从来没看过的数据」，这里指的就是8 万笔的测试数据集（Test Set）了。 \n",
    "\n",
    "### 基线模型 \n",
    "\n",
    "我们当然希望不管使用什么样的模型，它都能够帮我们减少人工检查的成本，并同时最大化分类的准确度。要知道它是不是有效怎么办？没有比较就没有伤害，究竟要跟哪个模型比较呢？要建立一个比较的基准，这就是基线模型（Baseline Model）的由来。 \n",
    "建立基线模型可以有一系列的方法，在这个案例里，将给出一个最容易理解和信任的简单方法。 "
   ]
  },
  {
   "cell_type": "code",
   "execution_count": 1,
   "id": "17815140",
   "metadata": {},
   "outputs": [],
   "source": [
    "TRAIN_CSV_PATH = \"./train.csv\" \n",
    "import pandas as pd \n",
    "train = pd . read_csv ( TRAIN_CSV_PATH , index_col = 0 ) \n",
    "cols = [ 'title1_zh' , 'title2_zh' , 'label' ] \n",
    "train = train . loc [:, cols ] \n",
    "cnt = train . iloc [:,-1:] .value_counts()"
   ]
  },
  {
   "cell_type": "code",
   "execution_count": 2,
   "id": "d207f530",
   "metadata": {},
   "outputs": [
    {
     "data": {
      "text/html": [
       "<div>\n",
       "<style scoped>\n",
       "    .dataframe tbody tr th:only-of-type {\n",
       "        vertical-align: middle;\n",
       "    }\n",
       "\n",
       "    .dataframe tbody tr th {\n",
       "        vertical-align: top;\n",
       "    }\n",
       "\n",
       "    .dataframe thead th {\n",
       "        text-align: right;\n",
       "    }\n",
       "</style>\n",
       "<table border=\"1\" class=\"dataframe\">\n",
       "  <thead>\n",
       "    <tr style=\"text-align: right;\">\n",
       "      <th></th>\n",
       "      <th>title1_zh</th>\n",
       "      <th>title2_zh</th>\n",
       "      <th>label</th>\n",
       "    </tr>\n",
       "    <tr>\n",
       "      <th>id</th>\n",
       "      <th></th>\n",
       "      <th></th>\n",
       "      <th></th>\n",
       "    </tr>\n",
       "  </thead>\n",
       "  <tbody>\n",
       "    <tr>\n",
       "      <th>0</th>\n",
       "      <td>2017养老保险又新增两项，农村老人人人可申领，你领到了吗</td>\n",
       "      <td>警方辟谣“鸟巢大会每人领5万” 仍有老人坚持进京</td>\n",
       "      <td>unrelated</td>\n",
       "    </tr>\n",
       "    <tr>\n",
       "      <th>3</th>\n",
       "      <td>\"你不来深圳，早晚你儿子也要来\"，不出10年深圳人均GDP将超香港</td>\n",
       "      <td>深圳GDP首超香港？深圳统计局辟谣：只是差距在缩小</td>\n",
       "      <td>unrelated</td>\n",
       "    </tr>\n",
       "    <tr>\n",
       "      <th>1</th>\n",
       "      <td>\"你不来深圳，早晚你儿子也要来\"，不出10年深圳人均GDP将超香港</td>\n",
       "      <td>GDP首超香港？深圳澄清：还差一点点……</td>\n",
       "      <td>unrelated</td>\n",
       "    </tr>\n",
       "    <tr>\n",
       "      <th>2</th>\n",
       "      <td>\"你不来深圳，早晚你儿子也要来\"，不出10年深圳人均GDP将超香港</td>\n",
       "      <td>去年深圳GDP首超香港？深圳统计局辟谣：还差611亿</td>\n",
       "      <td>unrelated</td>\n",
       "    </tr>\n",
       "    <tr>\n",
       "      <th>9</th>\n",
       "      <td>\"用大蒜鉴别地沟油的方法,怎么鉴别地沟油</td>\n",
       "      <td>吃了30年食用油才知道，一片大蒜轻松鉴别地沟油</td>\n",
       "      <td>agreed</td>\n",
       "    </tr>\n",
       "  </tbody>\n",
       "</table>\n",
       "</div>"
      ],
      "text/plain": [
       "                            title1_zh                   title2_zh      label\n",
       "id                                                                          \n",
       "0       2017养老保险又新增两项，农村老人人人可申领，你领到了吗    警方辟谣“鸟巢大会每人领5万” 仍有老人坚持进京  unrelated\n",
       "3   \"你不来深圳，早晚你儿子也要来\"，不出10年深圳人均GDP将超香港   深圳GDP首超香港？深圳统计局辟谣：只是差距在缩小  unrelated\n",
       "1   \"你不来深圳，早晚你儿子也要来\"，不出10年深圳人均GDP将超香港        GDP首超香港？深圳澄清：还差一点点……  unrelated\n",
       "2   \"你不来深圳，早晚你儿子也要来\"，不出10年深圳人均GDP将超香港  去年深圳GDP首超香港？深圳统计局辟谣：还差611亿  unrelated\n",
       "9                \"用大蒜鉴别地沟油的方法,怎么鉴别地沟油     吃了30年食用油才知道，一片大蒜轻松鉴别地沟油     agreed"
      ]
     },
     "execution_count": 2,
     "metadata": {},
     "output_type": "execute_result"
    }
   ],
   "source": [
    "train.head()"
   ]
  },
  {
   "cell_type": "markdown",
   "id": "eaf0cde4",
   "metadata": {},
   "source": [
    "首先，我们来看一下，在训练集中各种不同label（即新闻pairs的关系类别）的分布比例。 "
   ]
  },
  {
   "cell_type": "code",
   "execution_count": 4,
   "id": "273eceaa",
   "metadata": {},
   "outputs": [
    {
     "data": {
      "image/png": "[encoded data removed]",
      "text/plain": [
       "<Figure size 432x288 with 1 Axes>"
      ]
     },
     "metadata": {
      "needs_background": "light"
     },
     "output_type": "display_data"
    }
   ],
   "source": [
    "import numpy as np \n",
    "import matplotlib.pyplot as plt \n",
    "# 准备数据 \n",
    "x_data = cnt.index.values \n",
    "y_data = np.asarray(cnt) / np.sum(np.asarray(cnt), axis=0) \n",
    "# 正确显示中文和负号 \n",
    "plt.rcParams[\"font.sans-serif\"] = [\"SimHei\"] \n",
    "plt.rcParams[\"axes.unicode_minus\"] = False \n",
    "# 画图，plt.bar()可以画柱状图 \n",
    "for i in range(len(x_data)): \n",
    "    plt.bar(x_data[i], y_data[i]) \n",
    "for i, j in zip(x_data, y_data): \n",
    "    plt.text(i, j , \"%1.0f\" % (100*j) + \"%\", ha=\"center\", va=\"bottom\", fontsize=7) \n",
    "# 设置图片名称 \n",
    "plt.title(\"假新闻分类统计\") \n",
    "# 设置x轴标签名 \n",
    "plt.xlabel(\"新闻pairs的关系类别\") \n",
    "# 设置y轴标签名 \n",
    "plt.ylabel(\"各类别占比\") \n",
    "# 显示 \n",
    "plt.savefig(fname=\"imgs/3-out.png\", dpi=300) \n",
    "plt.show() "
   ]
  },
  {
   "cell_type": "markdown",
   "id": "75d84883",
   "metadata": {},
   "source": [
    "从上图中可以看出，这是一个常见的Unbalanced Dataset：特定的分类占了数据的大半比例。 \n",
    "有接近70 % 的「成对新闻」都是不相关的。此处的「成对新闻」指的是数据集里，每一行的假新闻标题A 以及对应的标题B 所组成的pairs。 \n",
    "现在假设测试数据集（Test Set）的数据分布跟训练数据集相差不远，且衡量一个分类模型的指标是准确度（Accuracy）：100 组成对新闻中，模型猜对几组。 \n",
    "这时候如果要你用一个简单法则来分类所有成对新闻，并同时最大化准确度，你会怎么做？ \n",
    "\n",
    "---\n",
    "\n",
    "没错，就是全部猜 unrelated 就完了！ \n",
    "\n",
    "这样，我们就构造出一个简单的基线模型，它在训练集上的准确率是<font color=\"#dd0000\">**68%**</font>，记住这个数字。 "
   ]
  }
 ],
 "metadata": {
  "kernelspec": {
   "display_name": "Python 3 (ipykernel)",
   "language": "python",
   "name": "python3"
  },
  "language_info": {
   "codemirror_mode": {
    "name": "ipython",
    "version": 3
   },
   "file_extension": ".py",
   "mimetype": "text/x-python",
   "name": "python",
   "nbconvert_exporter": "python",
   "pygments_lexer": "ipython3",
   "version": "3.7.9"
  }
 },
 "nbformat": 4,
 "nbformat_minor": 5
}
